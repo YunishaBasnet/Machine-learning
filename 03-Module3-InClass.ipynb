{
 "cells": [
  {
   "cell_type": "markdown",
   "id": "bf3871cb-d52a-4a14-9c9d-7e760f8d0734",
   "metadata": {},
   "source": [
    "You are given a dataset called ’Diabetes.csv’.\n",
    "- Load the dataset\n",
    "- Print the first ten observations on the screen\n",
    "-  Check the shape of the dataset\n",
    "-  Print the column names of the dataset\n",
    "-  Split the dataset into feature set (X) and the target variable (y). The target variable is ‘OnDiab’, indicating onset of diabetes within five years.\n",
    "-  Find the unique number of classes for the target variable.\n",
    "-  Split the dataset into training and test datasets\n",
    "-  Train KNearestNeighbor classifer on your train dataset and print the score on the the test dataset. Set number of neighbors to 5.\n",
    "- Import GridSearchCV from `sklearn.modelselection`\n",
    "-  Split your data into train and test datasets\n",
    "-  For neighbors=1 to 30, compute GridSearchCV for train dataset with kfold=10. 12. Print the best cross validation score\n",
    "-  Print the best parameter\n",
    "-  Print the test score"
   ]
  },
  {
   "cell_type": "code",
   "execution_count": null,
   "id": "d9cca968-66da-4745-88c0-803fdcde815e",
   "metadata": {},
   "outputs": [],
   "source": []
  }
 ],
 "metadata": {
  "kernelspec": {
   "display_name": "Python 3 (ipykernel)",
   "language": "python",
   "name": "python3"
  },
  "language_info": {
   "codemirror_mode": {
    "name": "ipython",
    "version": 3
   },
   "file_extension": ".py",
   "mimetype": "text/x-python",
   "name": "python",
   "nbconvert_exporter": "python",
   "pygments_lexer": "ipython3",
   "version": "3.11.4"
  }
 },
 "nbformat": 4,
 "nbformat_minor": 5
}
